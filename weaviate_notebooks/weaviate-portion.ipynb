{
 "cells": [
  {
   "cell_type": "markdown",
   "metadata": {},
   "source": [
    "We're using version `4.7.1` of the weaviate-client"
   ]
  },
  {
   "cell_type": "markdown",
   "metadata": {},
   "source": [
    "## Import Libraries"
   ]
  },
  {
   "cell_type": "code",
   "execution_count": 1,
   "metadata": {},
   "outputs": [],
   "source": [
    "import weaviate\n",
    "import weaviate.classes.config as wvcc\n",
    "import weaviate.classes as wvc\n",
    "from weaviate.classes.config import Property, DataType, ReferenceProperty\n",
    "from weaviate.util import generate_uuid5\n",
    "from weaviate.classes.init import Auth\n",
    "from weaviate.classes.query import Filter\n",
    "\n",
    "\n",
    "import os\n",
    "import base64\n",
    "from dotenv import load_dotenv, find_dotenv\n",
    "import json\n",
    "from PIL import Image\n",
    "import matplotlib.pyplot as plt\n"
   ]
  },
  {
   "cell_type": "markdown",
   "metadata": {},
   "source": [
    "## Connect to WCD"
   ]
  },
  {
   "cell_type": "code",
   "execution_count": 2,
   "metadata": {},
   "outputs": [
    {
     "ename": "WeaviateInvalidInputError",
     "evalue": "Invalid input provided: Argument 'cluster_url' must be one of: [<class 'str'>], but got <class 'NoneType'>.",
     "output_type": "error",
     "traceback": [
      "\u001b[0;31m---------------------------------------------------------------------------\u001b[0m",
      "\u001b[0;31mWeaviateInvalidInputError\u001b[0m                 Traceback (most recent call last)",
      "Cell \u001b[0;32mIn[2], line 4\u001b[0m\n\u001b[1;32m      1\u001b[0m OPENAI_KEY \u001b[38;5;241m=\u001b[39m os\u001b[38;5;241m.\u001b[39mgetenv(\u001b[38;5;124m'\u001b[39m\u001b[38;5;124mOPENAI_KEY\u001b[39m\u001b[38;5;124m'\u001b[39m)\n\u001b[1;32m      2\u001b[0m headers \u001b[38;5;241m=\u001b[39m {\u001b[38;5;124m\"\u001b[39m\u001b[38;5;124mX-OpenAI-Api-Key\u001b[39m\u001b[38;5;124m\"\u001b[39m: OPENAI_KEY}\n\u001b[0;32m----> 4\u001b[0m client \u001b[38;5;241m=\u001b[39m \u001b[43mweaviate\u001b[49m\u001b[38;5;241;43m.\u001b[39;49m\u001b[43mconnect_to_weaviate_cloud\u001b[49m\u001b[43m(\u001b[49m\n\u001b[1;32m      5\u001b[0m \u001b[43m    \u001b[49m\u001b[43mcluster_url\u001b[49m\u001b[38;5;241;43m=\u001b[39;49m\u001b[43mos\u001b[49m\u001b[38;5;241;43m.\u001b[39;49m\u001b[43mgetenv\u001b[49m\u001b[43m(\u001b[49m\u001b[38;5;124;43m'\u001b[39;49m\u001b[38;5;124;43mWEAVIATE_URL\u001b[39;49m\u001b[38;5;124;43m'\u001b[39;49m\u001b[43m)\u001b[49m\u001b[43m,\u001b[49m\n\u001b[1;32m      6\u001b[0m \u001b[43m    \u001b[49m\u001b[43mauth_credentials\u001b[49m\u001b[38;5;241;43m=\u001b[39;49m\u001b[43mAuth\u001b[49m\u001b[38;5;241;43m.\u001b[39;49m\u001b[43mapi_key\u001b[49m\u001b[43m(\u001b[49m\u001b[43mos\u001b[49m\u001b[38;5;241;43m.\u001b[39;49m\u001b[43mgetenv\u001b[49m\u001b[43m(\u001b[49m\u001b[38;5;124;43m'\u001b[39;49m\u001b[38;5;124;43mWEAVIATE_AUTH\u001b[39;49m\u001b[38;5;124;43m'\u001b[39;49m\u001b[43m)\u001b[49m\u001b[43m)\u001b[49m\u001b[43m,\u001b[49m\n\u001b[1;32m      7\u001b[0m \u001b[43m    \u001b[49m\u001b[43mheaders\u001b[49m\u001b[38;5;241;43m=\u001b[39;49m\u001b[43mheaders\u001b[49m\n\u001b[1;32m      8\u001b[0m \u001b[43m)\u001b[49m\n\u001b[1;32m     10\u001b[0m client\u001b[38;5;241m.\u001b[39mis_ready()\n",
      "File \u001b[0;32m/Library/Frameworks/Python.framework/Versions/3.10/lib/python3.10/site-packages/weaviate/connect/helpers.py:65\u001b[0m, in \u001b[0;36mconnect_to_weaviate_cloud\u001b[0;34m(cluster_url, auth_credentials, headers, additional_config, skip_init_checks)\u001b[0m\n\u001b[1;32m     14\u001b[0m \u001b[38;5;28;01mdef\u001b[39;00m \u001b[38;5;21mconnect_to_weaviate_cloud\u001b[39m(\n\u001b[1;32m     15\u001b[0m     cluster_url: \u001b[38;5;28mstr\u001b[39m,\n\u001b[1;32m     16\u001b[0m     auth_credentials: Optional[AuthCredentials],\n\u001b[0;32m   (...)\u001b[0m\n\u001b[1;32m     19\u001b[0m     skip_init_checks: \u001b[38;5;28mbool\u001b[39m \u001b[38;5;241m=\u001b[39m \u001b[38;5;28;01mFalse\u001b[39;00m,\n\u001b[1;32m     20\u001b[0m ) \u001b[38;5;241m-\u001b[39m\u001b[38;5;241m>\u001b[39m WeaviateClient:\n\u001b[1;32m     21\u001b[0m \u001b[38;5;250m    \u001b[39m\u001b[38;5;124;03m\"\"\"\u001b[39;00m\n\u001b[1;32m     22\u001b[0m \u001b[38;5;124;03m    Connect to a Weaviate Cloud (WCD) instance.\u001b[39;00m\n\u001b[1;32m     23\u001b[0m \n\u001b[0;32m   (...)\u001b[0m\n\u001b[1;32m     63\u001b[0m \u001b[38;5;124;03m        >>> # The connection is automatically closed when the context is exited.\u001b[39;00m\n\u001b[1;32m     64\u001b[0m \u001b[38;5;124;03m    \"\"\"\u001b[39;00m\n\u001b[0;32m---> 65\u001b[0m     \u001b[43m_validate_input\u001b[49m\u001b[43m(\u001b[49m\u001b[43m_ValidateArgument\u001b[49m\u001b[43m(\u001b[49m\u001b[43m[\u001b[49m\u001b[38;5;28;43mstr\u001b[39;49m\u001b[43m]\u001b[49m\u001b[43m,\u001b[49m\u001b[43m \u001b[49m\u001b[38;5;124;43m\"\u001b[39;49m\u001b[38;5;124;43mcluster_url\u001b[39;49m\u001b[38;5;124;43m\"\u001b[39;49m\u001b[43m,\u001b[49m\u001b[43m \u001b[49m\u001b[43mcluster_url\u001b[49m\u001b[43m)\u001b[49m\u001b[43m)\u001b[49m\n\u001b[1;32m     66\u001b[0m     \u001b[38;5;28;01mif\u001b[39;00m cluster_url\u001b[38;5;241m.\u001b[39mstartswith(\u001b[38;5;124m\"\u001b[39m\u001b[38;5;124mhttp\u001b[39m\u001b[38;5;124m\"\u001b[39m):\n\u001b[1;32m     67\u001b[0m         \u001b[38;5;66;03m# Handle the common case of copy/pasting a URL instead of the hostname.\u001b[39;00m\n\u001b[1;32m     68\u001b[0m         cluster_url \u001b[38;5;241m=\u001b[39m urlparse(cluster_url)\u001b[38;5;241m.\u001b[39mnetloc\n",
      "File \u001b[0;32m/Library/Frameworks/Python.framework/Versions/3.10/lib/python3.10/site-packages/weaviate/validator.py:24\u001b[0m, in \u001b[0;36m_validate_input\u001b[0;34m(inputs)\u001b[0m\n\u001b[1;32m     22\u001b[0m \u001b[38;5;28;01mfor\u001b[39;00m validate \u001b[38;5;129;01min\u001b[39;00m inputs:\n\u001b[1;32m     23\u001b[0m     \u001b[38;5;28;01mif\u001b[39;00m \u001b[38;5;129;01mnot\u001b[39;00m \u001b[38;5;28many\u001b[39m(__is_valid(exp, validate\u001b[38;5;241m.\u001b[39mvalue) \u001b[38;5;28;01mfor\u001b[39;00m exp \u001b[38;5;129;01min\u001b[39;00m validate\u001b[38;5;241m.\u001b[39mexpected):\n\u001b[0;32m---> 24\u001b[0m         \u001b[38;5;28;01mraise\u001b[39;00m WeaviateInvalidInputError(\n\u001b[1;32m     25\u001b[0m             \u001b[38;5;124mf\u001b[39m\u001b[38;5;124m\"\u001b[39m\u001b[38;5;124mArgument \u001b[39m\u001b[38;5;124m'\u001b[39m\u001b[38;5;132;01m{\u001b[39;00mvalidate\u001b[38;5;241m.\u001b[39mname\u001b[38;5;132;01m}\u001b[39;00m\u001b[38;5;124m'\u001b[39m\u001b[38;5;124m must be one of: \u001b[39m\u001b[38;5;132;01m{\u001b[39;00mvalidate\u001b[38;5;241m.\u001b[39mexpected\u001b[38;5;132;01m}\u001b[39;00m\u001b[38;5;124m, but got \u001b[39m\u001b[38;5;132;01m{\u001b[39;00m\u001b[38;5;28mtype\u001b[39m(validate\u001b[38;5;241m.\u001b[39mvalue)\u001b[38;5;132;01m}\u001b[39;00m\u001b[38;5;124m\"\u001b[39m\n\u001b[1;32m     26\u001b[0m         )\n",
      "\u001b[0;31mWeaviateInvalidInputError\u001b[0m: Invalid input provided: Argument 'cluster_url' must be one of: [<class 'str'>], but got <class 'NoneType'>."
     ]
    }
   ],
   "source": [
    "OPENAI_KEY = os.getenv('OPENAI_KEY')\n",
    "headers = {\"X-OpenAI-Api-Key\": OPENAI_KEY}\n",
    "\n",
    "client = weaviate.connect_to_weaviate_cloud(\n",
    "    cluster_url=os.getenv('WEAVIATE_URL'),\n",
    "    auth_credentials=Auth.api_key(os.getenv('WEAVIATE_AUTH')),\n",
    "    headers=headers\n",
    ")\n",
    "\n",
    "client.is_ready()"
   ]
  },
  {
   "cell_type": "markdown",
   "metadata": {},
   "source": [
    "## Define Schema"
   ]
  },
  {
   "cell_type": "code",
   "execution_count": null,
   "metadata": {},
   "outputs": [],
   "source": [
    "client.collections.delete(\"Products\")"
   ]
  },
  {
   "cell_type": "code",
   "execution_count": null,
   "metadata": {},
   "outputs": [],
   "source": [
    "dataset = client.collections.create(\n",
    "    name='Products',\n",
    "    vectorizer_config=wvcc.Configure.Vectorizer.text2vec_openai(model='ada'),\n",
    "    generative_config=wvcc.Configure.Generative.openai(model='gpt-4-1106-preview'),\n",
    "\n",
    "    properties=[\n",
    "        Property(name=\"title\", data_type=DataType.TEXT),\n",
    "        Property(name=\"description\", data_type=DataType.TEXT),\n",
    "        Property(name=\"file_path\", data_type=DataType.TEXT, skip_vectorization=True),\n",
    "        Property(name=\"price\", data_type=DataType.NUMBER, skip_vectorization=True),\n",
    "        Property(name=\"category\", data_type=DataType.TEXT)\n",
    "    ]\n",
    ") "
   ]
  },
  {
   "cell_type": "markdown",
   "metadata": {},
   "source": [
    "## Import Data"
   ]
  },
  {
   "cell_type": "code",
   "execution_count": null,
   "metadata": {},
   "outputs": [],
   "source": [
    "data_path = 'data.json'\n",
    "\n",
    "with open(data_path, 'r') as json_file:\n",
    "    data = json.load(json_file)\n",
    "\n",
    "print(data[0])"
   ]
  },
  {
   "cell_type": "code",
   "execution_count": null,
   "metadata": {},
   "outputs": [],
   "source": [
    "products = client.collections.get(\"Products\")\n",
    "\n",
    "with products.batch.dynamic() as batch:\n",
    "    for item in data:\n",
    "\n",
    "        properties = {\n",
    "            \"title\": item['title'],\n",
    "            \"description\": item['description'],\n",
    "            \"file_path\": item['file_path'],\n",
    "            \"price\": item['price'],\n",
    "            \"category\": item['category']\n",
    "        }\n",
    "\n",
    "        batch.add_object(\n",
    "            properties=properties\n",
    "        )"
   ]
  },
  {
   "cell_type": "code",
   "execution_count": null,
   "metadata": {},
   "outputs": [],
   "source": [
    "# count the number of objects\n",
    "\n",
    "products = client.collections.get(\"Products\")\n",
    "\n",
    "products.aggregate.over_all(total_count=True)"
   ]
  },
  {
   "cell_type": "markdown",
   "metadata": {},
   "source": [
    "## Query Time"
   ]
  },
  {
   "cell_type": "markdown",
   "metadata": {},
   "source": [
    "### Vector Search"
   ]
  },
  {
   "cell_type": "code",
   "execution_count": null,
   "metadata": {},
   "outputs": [],
   "source": [
    "products = client.collections.get(\"Products\")\n",
    "\n",
    "response = products.query.near_text(\n",
    "    query=\"Boots for the snow\",\n",
    "    return_properties=['title', 'description','file_path'],\n",
    "    limit=4\n",
    ")\n",
    "\n",
    "for item in response.objects:\n",
    "    print(item.properties['title'])\n",
    "\n",
    "    image = Image.open(item.properties['file_path'])\n",
    "    plt.imshow(image)\n",
    "    plt.axis('off')\n",
    "    plt.show()"
   ]
  },
  {
   "cell_type": "markdown",
   "metadata": {},
   "source": [
    "### Hybrid Search"
   ]
  },
  {
   "cell_type": "code",
   "execution_count": null,
   "metadata": {},
   "outputs": [],
   "source": [
    "products = client.collections.get(\"Products\")\n",
    "\n",
    "response = products.query.hybrid(\n",
    "    query=\"Boots for the snow\",\n",
    "    alpha=0.5,\n",
    "    return_properties=['title', 'description','file_path'],\n",
    "    limit=4\n",
    ")\n",
    "\n",
    "for item in response.objects:\n",
    "    print(item.properties['title'])\n",
    "\n",
    "    image = Image.open(item.properties['file_path'])\n",
    "    plt.imshow(image)\n",
    "    plt.axis('off')\n",
    "    plt.show()"
   ]
  },
  {
   "cell_type": "markdown",
   "metadata": {},
   "source": [
    "### Autocut"
   ]
  },
  {
   "cell_type": "code",
   "execution_count": null,
   "metadata": {},
   "outputs": [],
   "source": [
    "products = client.collections.get(\"Products\")\n",
    "\n",
    "response = products.query.near_text(\n",
    "    query=\"Lawn power equipment\",\n",
    "    return_properties=['title', 'description','file_path'],\n",
    "    auto_limit= 1\n",
    ")\n",
    "\n",
    "for item in response.objects:\n",
    "    print(item.properties['title'])\n",
    "\n",
    "    image = Image.open(item.properties['file_path'])\n",
    "    plt.imshow(image)\n",
    "    plt.axis('off')\n",
    "    plt.show()"
   ]
  },
  {
   "cell_type": "markdown",
   "metadata": {},
   "source": [
    "### Filtered Search"
   ]
  },
  {
   "cell_type": "code",
   "execution_count": null,
   "metadata": {},
   "outputs": [],
   "source": [
    "products = client.collections.get(\"Products\")\n",
    "\n",
    "response = products.query.near_text(\n",
    "    query=\"lifestyle sneakers\",\n",
    "    return_properties=['title', 'description','file_path'],\n",
    "    filters=Filter.by_property(\"category\").equal(\"sneakers\"),\n",
    "    limit=3\n",
    ")\n",
    "\n",
    "for item in response.objects:\n",
    "    print(item.properties['title'])\n",
    "\n",
    "    image = Image.open(item.properties['file_path'])\n",
    "    plt.imshow(image)\n",
    "    plt.axis('off')\n",
    "    plt.show()"
   ]
  },
  {
   "cell_type": "markdown",
   "metadata": {},
   "source": [
    "## Generative Search"
   ]
  },
  {
   "cell_type": "code",
   "execution_count": null,
   "metadata": {},
   "outputs": [],
   "source": [
    "prompt = \"Given this: {description}, how would you sell it to people?\"\n",
    "\n",
    "products = client.collections.get(\"Products\")\n",
    "response = products.generate.hybrid(\n",
    "    query=\"lawn power equipment\",\n",
    "    alpha=0.5,\n",
    "    limit=2,\n",
    "    single_prompt=prompt\n",
    ")\n",
    "\n",
    "for item in response.objects:\n",
    "    print(json.dumps(item.properties['title'], indent=2))\n",
    "    print(item.generated)\n",
    "\n",
    "    image = Image.open(item.properties['file_path'])\n",
    "    plt.imshow(image)\n",
    "    plt.axis('off')\n",
    "    plt.show()\n",
    "    \n",
    "    print('====')"
   ]
  }
 ],
 "metadata": {
  "kernelspec": {
   "display_name": "Python 3",
   "language": "python",
   "name": "python3"
  },
  "language_info": {
   "codemirror_mode": {
    "name": "ipython",
    "version": 3
   },
   "file_extension": ".py",
   "mimetype": "text/x-python",
   "name": "python",
   "nbconvert_exporter": "python",
   "pygments_lexer": "ipython3",
   "version": "3.10.10"
  }
 },
 "nbformat": 4,
 "nbformat_minor": 2
}
