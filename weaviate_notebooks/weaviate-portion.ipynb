{
 "cells": [
  {
   "cell_type": "markdown",
   "metadata": {},
   "source": [
    "We're using version `4.7.1` of the weaviate-client"
   ]
  },
  {
   "cell_type": "markdown",
   "metadata": {},
   "source": [
    "## Import Libraries"
   ]
  },
  {
   "cell_type": "code",
   "execution_count": null,
   "metadata": {},
   "outputs": [],
   "source": [
    "import weaviate\n",
    "import weaviate.classes.config as wvcc\n",
    "import weaviate.classes as wvc\n",
    "from weaviate.classes.config import Property, DataType, ReferenceProperty\n",
    "from weaviate.util import generate_uuid5\n",
    "from weaviate.classes.init import Auth\n",
    "from weaviate.classes.query import Filter\n",
    "\n",
    "\n",
    "import os\n",
    "import base64\n",
    "from dotenv import load_dotenv, find_dotenv\n",
    "import json\n",
    "from PIL import Image\n",
    "import matplotlib.pyplot as plt\n"
   ]
  },
  {
   "cell_type": "markdown",
   "metadata": {},
   "source": [
    "## Connect to WCD"
   ]
  },
  {
   "cell_type": "code",
   "execution_count": null,
   "metadata": {},
   "outputs": [],
   "source": [
    "OPENAI_KEY = os.getenv('OPENAI_KEY')\n",
    "headers = {\"X-OpenAI-Api-Key\": OPENAI_KEY}\n",
    "\n",
    "client = weaviate.connect_to_weaviate_cloud(\n",
    "    cluster_url=os.getenv('WEAVIATE_URL'),\n",
    "    auth_credentials=Auth.api_key(os.getenv('WEAVIATE_AUTH')),\n",
    "    headers=headers\n",
    ")\n",
    "\n",
    "client.is_ready()"
   ]
  },
  {
   "cell_type": "markdown",
   "metadata": {},
   "source": [
    "## Define Schema"
   ]
  },
  {
   "cell_type": "code",
   "execution_count": null,
   "metadata": {},
   "outputs": [],
   "source": [
    "client.collections.delete(\"Products\")"
   ]
  },
  {
   "cell_type": "code",
   "execution_count": null,
   "metadata": {},
   "outputs": [],
   "source": [
    "dataset = client.collections.create(\n",
    "    name='Products',\n",
    "    vectorizer_config=wvcc.Configure.Vectorizer.text2vec_openai(model='ada'),\n",
    "    generative_config=wvcc.Configure.Generative.openai(model='gpt-4-1106-preview'),\n",
    "\n",
    "    properties=[\n",
    "        Property(name=\"title\", data_type=DataType.TEXT),\n",
    "        Property(name=\"description\", data_type=DataType.TEXT),\n",
    "        Property(name=\"file_path\", data_type=DataType.TEXT, skip_vectorization=True),\n",
    "        Property(name=\"price\", data_type=DataType.NUMBER, skip_vectorization=True),\n",
    "        Property(name=\"category\", data_type=DataType.TEXT)\n",
    "    ]\n",
    ") "
   ]
  },
  {
   "cell_type": "markdown",
   "metadata": {},
   "source": [
    "## Import Data"
   ]
  },
  {
   "cell_type": "code",
   "execution_count": null,
   "metadata": {},
   "outputs": [],
   "source": [
    "data_path = 'data.json'\n",
    "\n",
    "with open(data_path, 'r') as json_file:\n",
    "    data = json.load(json_file)\n",
    "\n",
    "print(data[0])"
   ]
  },
  {
   "cell_type": "code",
   "execution_count": null,
   "metadata": {},
   "outputs": [],
   "source": [
    "products = client.collections.get(\"Products\")\n",
    "\n",
    "with products.batch.dynamic() as batch:\n",
    "    for item in data:\n",
    "\n",
    "        properties = {\n",
    "            \"title\": item['title'],\n",
    "            \"description\": item['description'],\n",
    "            \"file_path\": item['file_path'],\n",
    "            \"price\": item['price'],\n",
    "            \"category\": item['category']\n",
    "        }\n",
    "\n",
    "        batch.add_object(\n",
    "            properties=properties\n",
    "        )"
   ]
  },
  {
   "cell_type": "code",
   "execution_count": null,
   "metadata": {},
   "outputs": [],
   "source": [
    "# count the number of objects\n",
    "\n",
    "products = client.collections.get(\"Products\")\n",
    "\n",
    "products.aggregate.over_all(total_count=True)"
   ]
  },
  {
   "cell_type": "markdown",
   "metadata": {},
   "source": [
    "## Query Time"
   ]
  },
  {
   "cell_type": "markdown",
   "metadata": {},
   "source": [
    "### Vector Search"
   ]
  },
  {
   "cell_type": "code",
   "execution_count": null,
   "metadata": {},
   "outputs": [],
   "source": [
    "products = client.collections.get(\"Products\")\n",
    "\n",
    "response = products.query.near_text(\n",
    "    query=\"Boots for the snow\",\n",
    "    return_properties=['title', 'description','file_path'],\n",
    "    limit=4\n",
    ")\n",
    "\n",
    "for item in response.objects:\n",
    "    print(item.properties['title'])\n",
    "\n",
    "    image = Image.open(item.properties['file_path'])\n",
    "    plt.imshow(image)\n",
    "    plt.axis('off')\n",
    "    plt.show()"
   ]
  },
  {
   "cell_type": "markdown",
   "metadata": {},
   "source": [
    "### Hybrid Search"
   ]
  },
  {
   "cell_type": "code",
   "execution_count": null,
   "metadata": {},
   "outputs": [],
   "source": [
    "products = client.collections.get(\"Products\")\n",
    "\n",
    "response = products.query.hybrid(\n",
    "    query=\"Boots for the snow\",\n",
    "    alpha=0.5,\n",
    "    return_properties=['title', 'description','file_path'],\n",
    "    limit=4\n",
    ")\n",
    "\n",
    "for item in response.objects:\n",
    "    print(item.properties['title'])\n",
    "\n",
    "    image = Image.open(item.properties['file_path'])\n",
    "    plt.imshow(image)\n",
    "    plt.axis('off')\n",
    "    plt.show()"
   ]
  },
  {
   "cell_type": "markdown",
   "metadata": {},
   "source": [
    "### Autocut"
   ]
  },
  {
   "cell_type": "code",
   "execution_count": null,
   "metadata": {},
   "outputs": [],
   "source": [
    "products = client.collections.get(\"Products\")\n",
    "\n",
    "response = products.query.near_text(\n",
    "    query=\"Lawn power equipment\",\n",
    "    return_properties=['title', 'description','file_path'],\n",
    "    auto_limit= 1\n",
    ")\n",
    "\n",
    "for item in response.objects:\n",
    "    print(item.properties['title'])\n",
    "\n",
    "    image = Image.open(item.properties['file_path'])\n",
    "    plt.imshow(image)\n",
    "    plt.axis('off')\n",
    "    plt.show()"
   ]
  },
  {
   "cell_type": "markdown",
   "metadata": {},
   "source": [
    "### Filtered Search"
   ]
  },
  {
   "cell_type": "code",
   "execution_count": null,
   "metadata": {},
   "outputs": [],
   "source": [
    "products = client.collections.get(\"Products\")\n",
    "\n",
    "response = products.query.near_text(\n",
    "    query=\"lifestyle sneakers\",\n",
    "    return_properties=['title', 'description','file_path'],\n",
    "    filters=Filter.by_property(\"category\").equal(\"sneakers\"),\n",
    "    limit=3\n",
    ")\n",
    "\n",
    "for item in response.objects:\n",
    "    print(item.properties['title'])\n",
    "\n",
    "    image = Image.open(item.properties['file_path'])\n",
    "    plt.imshow(image)\n",
    "    plt.axis('off')\n",
    "    plt.show()"
   ]
  },
  {
   "cell_type": "markdown",
   "metadata": {},
   "source": [
    "## Generative Search"
   ]
  },
  {
   "cell_type": "code",
   "execution_count": null,
   "metadata": {},
   "outputs": [],
   "source": [
    "prompt = \"Given this: {description}, how would you sell it to people?\"\n",
    "\n",
    "products = client.collections.get(\"Products\")\n",
    "response = products.generate.hybrid(\n",
    "    query=\"lawn power equipment\",\n",
    "    alpha=0.5,\n",
    "    limit=2,\n",
    "    single_prompt=prompt\n",
    ")\n",
    "\n",
    "for item in response.objects:\n",
    "    print(json.dumps(item.properties['title'], indent=2))\n",
    "    print(item.generated)\n",
    "\n",
    "    image = Image.open(item.properties['file_path'])\n",
    "    plt.imshow(image)\n",
    "    plt.axis('off')\n",
    "    plt.show()\n",
    "    \n",
    "    print('====')"
   ]
  }
 ],
 "metadata": {
  "kernelspec": {
   "display_name": "Python 3",
   "language": "python",
   "name": "python3"
  },
  "language_info": {
   "codemirror_mode": {
    "name": "ipython",
    "version": 3
   },
   "file_extension": ".py",
   "mimetype": "text/x-python",
   "name": "python",
   "nbconvert_exporter": "python",
   "pygments_lexer": "ipython3",
   "version": "3.10.10"
  }
 },
 "nbformat": 4,
 "nbformat_minor": 2
}
