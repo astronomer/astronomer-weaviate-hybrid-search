{
 "cells": [
  {
   "cell_type": "code",
   "execution_count": null,
   "metadata": {},
   "outputs": [],
   "source": [
    "!pip install weaviate-client==4.6.5"
   ]
  },
  {
   "cell_type": "code",
   "execution_count": null,
   "metadata": {},
   "outputs": [],
   "source": [
    "import weaviate\n",
    "import os\n",
    "import weaviate.classes as wvc"
   ]
  },
  {
   "cell_type": "code",
   "execution_count": null,
   "metadata": {},
   "outputs": [],
   "source": [
    "print(weaviate.__version__)"
   ]
  },
  {
   "cell_type": "code",
   "execution_count": null,
   "metadata": {},
   "outputs": [],
   "source": [
    "client = weaviate.connect_to_local(\n",
    "    host=\"localhost\",  # spin up with `astro dev start`\n",
    "    port=8081,\n",
    "    grpc_port=50051,\n",
    "    auth_credentials=weaviate.auth.AuthApiKey(\"adminkey\"),\n",
    "    headers={\n",
    "        \"X-OpenAI-Api-key\": os.getenv(\"OPENAI_API_KEY\")\n",
    "    },  # Needs to be set locally\n",
    "    skip_init_checks=True,\n",
    ")\n",
    "\n",
    "r = client.collections.get(\"DEBUG\")\n",
    "\n",
    "print(r)"
   ]
  },
  {
   "cell_type": "code",
   "execution_count": null,
   "metadata": {},
   "outputs": [],
   "source": [
    "client = weaviate.connect_to_custom(\n",
    "    http_host=\"localhost\",\n",
    "    http_port=8081,\n",
    "    http_secure=False,\n",
    "    grpc_host=\"localhost\",\n",
    "    grpc_port=50051,\n",
    "    grpc_secure=False,\n",
    "    headers={\n",
    "        \"X-OpenAI-Api-key\": os.getenv(\"OPENAI_API_KEY\")\n",
    "    },  # Needs to be set locally\n",
    "    auth_credentials=weaviate.auth.AuthApiKey(\"adminkey\"),\n",
    ")\n",
    "\n",
    "r = client.collections.get(\"DEBUG\")\n",
    "\n",
    "print(r)"
   ]
  },
  {
   "cell_type": "code",
   "execution_count": null,
   "metadata": {},
   "outputs": [],
   "source": [
    "# delete collection\n",
    "client = weaviate.connect_to_custom(\n",
    "    http_host=\"localhost\",\n",
    "    http_port=8081,\n",
    "    http_secure=False,\n",
    "    grpc_host=\"localhost\",\n",
    "    grpc_port=50051,\n",
    "    grpc_secure=False,\n",
    "    headers={\n",
    "        \"X-OpenAI-Api-key\": os.getenv(\"OPENAI_API_KEY\")\n",
    "    },  # Needs to be set locally\n",
    "    auth_credentials=weaviate.auth.AuthApiKey(\"adminkey\"),\n",
    ")\n",
    "\n",
    "r = client.collections.delete(\"Products\")\n",
    "\n",
    "print(r)"
   ]
  },
  {
   "cell_type": "code",
   "execution_count": null,
   "metadata": {},
   "outputs": [],
   "source": [
    "client = weaviate.connect_to_custom(\n",
    "    http_host=\"localhost\",\n",
    "    http_port=8081,\n",
    "    http_secure=False,\n",
    "    grpc_host=\"localhost\",\n",
    "    grpc_port=50051,\n",
    "    grpc_secure=False,\n",
    "    headers={\n",
    "        \"X-OpenAI-Api-key\": os.getenv(\"OPENAI_API_KEY\")\n",
    "    },  # Needs to be set locally\n",
    "    auth_credentials=weaviate.auth.AuthApiKey(\"adminkey\"),\n",
    ")\n",
    "\n",
    "r = client.batch.failed_objects\n",
    "\n",
    "print(r)"
   ]
  },
  {
   "cell_type": "code",
   "execution_count": null,
   "metadata": {},
   "outputs": [],
   "source": [
    "client = weaviate.connect_to_local(\n",
    "    host=\"localhost\",  # spin up with `astro dev start`\n",
    "    port=8081,\n",
    "    grpc_port=50051,\n",
    "    auth_credentials=weaviate.auth.AuthApiKey(\"adminkey\"),\n",
    "    headers={\"X-OpenAI-Api-key\": os.getenv(\"OPENAI_API_KEY\")},  # Needs to be set locally\n",
    "    skip_init_checks=True,\n",
    ")\n",
    "\n",
    "publications = client.collections.get(\"PRODUCTS\")\n",
    "\n",
    "response = publications.query.near_text(\n",
    "    query=\"Boots\",\n",
    "    distance=2,\n",
    "    return_metadata=wvc.query.MetadataQuery(distance=True),\n",
    "    limit=1,\n",
    ")\n",
    "\n",
    "client.close()\n",
    "\n",
    "print(response.objects[0].properties[\"title\"])"
   ]
  }
 ],
 "metadata": {
  "kernelspec": {
   "display_name": "Python 3",
   "language": "python",
   "name": "python3"
  },
  "language_info": {
   "codemirror_mode": {
    "name": "ipython",
    "version": 3
   },
   "file_extension": ".py",
   "mimetype": "text/x-python",
   "name": "python",
   "nbconvert_exporter": "python",
   "pygments_lexer": "ipython3",
   "version": "3.10.1"
  }
 },
 "nbformat": 4,
 "nbformat_minor": 2
}
