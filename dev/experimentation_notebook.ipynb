{
 "cells": [
  {
   "cell_type": "code",
   "execution_count": null,
   "metadata": {},
   "outputs": [],
   "source": [
    "!pip install weaviate-client==4.6.5"
   ]
  },
  {
   "cell_type": "code",
   "execution_count": 1,
   "metadata": {},
   "outputs": [],
   "source": [
    "import weaviate\n",
    "import os\n",
    "import weaviate.classes as wvc"
   ]
  },
  {
   "cell_type": "code",
   "execution_count": 2,
   "metadata": {},
   "outputs": [
    {
     "name": "stdout",
     "output_type": "stream",
     "text": [
      "4.6.5\n"
     ]
    }
   ],
   "source": [
    "print(weaviate.__version__)"
   ]
  },
  {
   "cell_type": "code",
   "execution_count": 4,
   "metadata": {},
   "outputs": [
    {
     "name": "stdout",
     "output_type": "stream",
     "text": [
      "English Breakfast Tea\n",
      "Start your day with the invigorating taste of our English Breakfast Tea, a hearty blend that embodies the essence of a traditional morning cup. Crafted from the finest black tea leaves, this robust blend offers a full-bodied flavor with rich, malty undertones. Ideal for pairing with a hearty breakfast or enjoying on its own, our English Breakfast Tea provides a comforting and energizing experience. Whether you prefer it plain or with a dash of milk and sugar, this classic tea promises to awaken your senses and set a positive tone for the day ahead.\n"
     ]
    }
   ],
   "source": [
    "client = weaviate.connect_to_local(\n",
    "    host=\"localhost\",  # spin up with `astro dev start`\n",
    "    port=8081,\n",
    "    grpc_port=50051,\n",
    "    auth_credentials=weaviate.auth.AuthApiKey(\"adminkey\"),\n",
    "    headers={\"X-OpenAI-Api-key\": os.getenv(\"OPENAI_API_KEY\")},  # Needs to be set locally\n",
    "    skip_init_checks=True,\n",
    ")\n",
    "\n",
    "publications = client.collections.get(\"MYDATA\")\n",
    "\n",
    "response = publications.query.near_text(\n",
    "    query=\"Tea recommendations?\",\n",
    "    distance=2,\n",
    "    return_metadata=wvc.query.MetadataQuery(distance=True),\n",
    "    limit=1,\n",
    ")\n",
    "\n",
    "client.close()\n",
    "\n",
    "print(response.objects[0].properties[\"text\"])"
   ]
  }
 ],
 "metadata": {
  "kernelspec": {
   "display_name": "Python 3",
   "language": "python",
   "name": "python3"
  },
  "language_info": {
   "codemirror_mode": {
    "name": "ipython",
    "version": 3
   },
   "file_extension": ".py",
   "mimetype": "text/x-python",
   "name": "python",
   "nbconvert_exporter": "python",
   "pygments_lexer": "ipython3",
   "version": "3.10.1"
  }
 },
 "nbformat": 4,
 "nbformat_minor": 2
}
